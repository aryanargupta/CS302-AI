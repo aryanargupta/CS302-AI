{
  "nbformat": 4,
  "nbformat_minor": 0,
  "metadata": {
    "colab": {
      "provenance": []
    },
    "kernelspec": {
      "name": "python3",
      "display_name": "Python 3"
    },
    "language_info": {
      "name": "python"
    }
  },
  "cells": [
    {
      "cell_type": "code",
      "execution_count": null,
      "metadata": {
        "id": "OZxKAcUQAatl"
      },
      "outputs": [],
      "source": [
        "from string import ascii_lowercase\n",
        "import random\n",
        "from itertools import combinations\n",
        "import numpy as np"
      ]
    },
    {
      "cell_type": "code",
      "source": [
        "def creatproblem(n,k,m):\n",
        "        positive_var = list(ascii_lowercase)[:n]\n",
        "        negative_var = [var.upper() for var in positive_var]\n",
        "        variables = positive_var + negative_var\n",
        "        problem = []\n",
        "        threshold = 10\n",
        "        i = 0\n",
        "        comb = list(combinations(variables,k))\n",
        "\n",
        "        while i<threshold:\n",
        "            c = random.sample(comb,m)\n",
        "            if c not in problem:\n",
        "                problem.append(c)\n",
        "                i += 1\n",
        "\n",
        "        problems_new = []\n",
        "        for c in problem:\n",
        "            temp = []\n",
        "            temp = [list(sub) for sub in c]\n",
        "            problems_new.append(temp)\n",
        "        return  variables,problems_new"
      ],
      "metadata": {
        "id": "V4XNzCZeA_G5"
      },
      "execution_count": null,
      "outputs": []
    },
    {
      "cell_type": "code",
      "source": [
        "def random_assign(variables,n):\n",
        "    litral = list(np.random.choice(2,n))\n",
        "    negation = [abs(i-1) for i in litral]\n",
        "    assign = litral + negation\n",
        "    return dict(zip(variables,assign))\n"
      ],
      "metadata": {
        "id": "GqnY-SmeBBv6"
      },
      "execution_count": null,
      "outputs": []
    },
    {
      "cell_type": "code",
      "source": [
        "def heruistic(problem,assign):\n",
        "    count = 0\n",
        "    for sub in problem:\n",
        "        encode = [assign[val] for val in sub]\n",
        "        count += any(encode)\n",
        "    return count"
      ],
      "metadata": {
        "id": "EK3nmiFPBDv1"
      },
      "execution_count": null,
      "outputs": []
    },
    {
      "cell_type": "code",
      "source": [
        "def next_node(current):\n",
        "    key = list(current.keys())\n",
        "    key.sort()\n",
        "    key = key[0:len(key)//2]\n",
        "    successors = []\n",
        "    for k in key:\n",
        "        temp = current.copy()\n",
        "        temp[k] = abs(temp[k]-1)\n",
        "        temp[chr(ord(k)+32)] = abs(temp[chr(ord(k)+32)]-1)\n",
        "        successors.append(temp)\n",
        "\n",
        "\n",
        "\n",
        "    return successors"
      ],
      "metadata": {
        "id": "hWIK8JP6BFca"
      },
      "execution_count": null,
      "outputs": []
    },
    {
      "cell_type": "code",
      "source": [
        "print(next_node({'a': 0, 'b': 0, 'c': 0, 'A': 1, 'B': 1, 'C': 1}))"
      ],
      "metadata": {
        "colab": {
          "base_uri": "https://localhost:8080/"
        },
        "id": "TT-THG-YBHQz",
        "outputId": "a7b0af03-7b24-470f-877f-46c1e2810ecf"
      },
      "execution_count": null,
      "outputs": [
        {
          "output_type": "stream",
          "name": "stdout",
          "text": [
            "[{'a': 1, 'b': 0, 'c': 0, 'A': 0, 'B': 1, 'C': 1}, {'a': 0, 'b': 1, 'c': 0, 'A': 1, 'B': 0, 'C': 1}, {'a': 0, 'b': 0, 'c': 1, 'A': 1, 'B': 1, 'C': 0}]\n"
          ]
        }
      ]
    },
    {
      "cell_type": "code",
      "source": [
        "def select_node(succs,problem):\n",
        "    heruistic_val = []\n",
        "    for i in succs:\n",
        "        heruistic_val.append(heruistic(problem,i))\n",
        "    index = heruistic_val.index(max(heruistic_val))\n",
        "    return succs[index]"
      ],
      "metadata": {
        "id": "vt8dLFwDBJZw"
      },
      "execution_count": null,
      "outputs": []
    },
    {
      "cell_type": "code",
      "source": [
        "def check_goal_state(state,problem):\n",
        "    count = 0\n",
        "    for sub in problem:\n",
        "        encode = [state[val] for val in sub]\n",
        "        count += any(encode)\n",
        "    return len(problem) == count"
      ],
      "metadata": {
        "id": "XH54rWQsBK7D"
      },
      "execution_count": null,
      "outputs": []
    },
    {
      "cell_type": "code",
      "source": [
        "def hill_climbing(current_state,problem,step):\n",
        "    if step == 10000:\n",
        "        print('halted at depth',step)\n",
        "        return\n",
        "    if check_goal_state(current_state,problem)==True:\n",
        "        print(current_state,step)\n",
        "        return\n",
        "    else:\n",
        "        step += 1\n",
        "        successor = next_node(current_state)\n",
        "        new_node = select_node(successor,problem)\n",
        "        hill_climbing(new_node,problem,step)"
      ],
      "metadata": {
        "id": "xYyssg3QBMlU"
      },
      "execution_count": null,
      "outputs": []
    },
    {
      "cell_type": "code",
      "source": [
        "n = 2\n",
        "k = 3\n",
        "m = 2\n",
        "var,prob = creatproblem(n,k,m)\n",
        "print(var)\n",
        "for i in prob:\n",
        "    print(i)\n"
      ],
      "metadata": {
        "colab": {
          "base_uri": "https://localhost:8080/"
        },
        "id": "2u-E7aIJBOMe",
        "outputId": "35fc6e5b-b539-4289-f4d3-a79280dd5a88"
      },
      "execution_count": null,
      "outputs": [
        {
          "output_type": "stream",
          "name": "stdout",
          "text": [
            "['a', 'b', 'A', 'B']\n",
            "[['a', 'b', 'B'], ['a', 'b', 'A']]\n",
            "[['a', 'b', 'B'], ['a', 'A', 'B']]\n",
            "[['b', 'A', 'B'], ['a', 'b', 'A']]\n",
            "[['a', 'b', 'A'], ['a', 'A', 'B']]\n",
            "[['a', 'A', 'B'], ['a', 'b', 'A']]\n",
            "[['b', 'A', 'B'], ['a', 'A', 'B']]\n",
            "[['a', 'b', 'B'], ['b', 'A', 'B']]\n",
            "[['a', 'b', 'A'], ['a', 'b', 'B']]\n",
            "[['a', 'A', 'B'], ['a', 'b', 'B']]\n",
            "[['a', 'b', 'A'], ['b', 'A', 'B']]\n"
          ]
        }
      ]
    },
    {
      "cell_type": "code",
      "source": [
        "start_state = random_assign(var,n)\n",
        "print(start_state,prob[0])\n",
        "# start_state = {'a': 0, 'b': 0, 'c': 0, 'd': 0, 'e': 0, 'f':0,'A': 1, 'B': 1, 'C': 1, 'D': 1, 'E': 1, 'F':1}\n",
        "hill_climbing(start_state,prob[0],0)"
      ],
      "metadata": {
        "colab": {
          "base_uri": "https://localhost:8080/"
        },
        "id": "I0LqhvkpBPhp",
        "outputId": "4220832c-4f38-4e38-9cb9-ff1ed3b3b982"
      },
      "execution_count": null,
      "outputs": [
        {
          "output_type": "stream",
          "name": "stdout",
          "text": [
            "{'a': 1, 'b': 1, 'A': 0, 'B': 0} [['a', 'b', 'B'], ['a', 'b', 'A']]\n",
            "{'a': 1, 'b': 1, 'A': 0, 'B': 0} 0\n"
          ]
        }
      ]
    },
    {
      "cell_type": "code",
      "source": [
        "print(check_goal_state({'a': 0, 'b': 1, 'c': 0, 'd': 1, 'A': 1, 'B': 0, 'C': 1, 'D': 0},prob[7]))"
      ],
      "metadata": {
        "colab": {
          "base_uri": "https://localhost:8080/"
        },
        "id": "1AkQtyN4BRaN",
        "outputId": "fb716ecc-5d7c-4733-ee52-7ab3582ef6d8"
      },
      "execution_count": null,
      "outputs": [
        {
          "output_type": "stream",
          "name": "stdout",
          "text": [
            "True\n"
          ]
        }
      ]
    },
    {
      "cell_type": "code",
      "source": [
        "def heruistic(problem,assign):\n",
        "    count = 0\n",
        "    for sub in problem:\n",
        "        encode = [assign[val] for val in sub]\n",
        "        count += any(encode)\n",
        "    return count"
      ],
      "metadata": {
        "id": "vhmdRvCRBU7K"
      },
      "execution_count": null,
      "outputs": []
    },
    {
      "cell_type": "code",
      "source": [
        "def select_node_beam(succs,problem,beamwidth):\n",
        "    heruistic_val = []\n",
        "    beam_nodes = []\n",
        "    for i in succs:\n",
        "        heruistic_val.append(heruistic(problem,i))\n",
        "    for i in range(beamwidth):\n",
        "        index = heruistic_val.index(max(heruistic_val))\n",
        "        beam_nodes.append(succs[index])\n",
        "        succs.remove(succs[index])\n",
        "\n",
        "    return beam_nodes"
      ],
      "metadata": {
        "id": "lz1RgDveBXAZ"
      },
      "execution_count": null,
      "outputs": []
    },
    {
      "cell_type": "code",
      "source": [
        "def check_goal_state(state,problem,beamwidth):\n",
        "    count = 0\n",
        "    for sub in problem:\n",
        "        encode = [state[val] for val in sub]\n",
        "        count += any(encode)\n",
        "    return len(problem) == count"
      ],
      "metadata": {
        "id": "bqCGpoKlBYfA"
      },
      "execution_count": null,
      "outputs": []
    },
    {
      "cell_type": "code",
      "source": [
        "def next_node_beam(succs):\n",
        "    nextnode= []\n",
        "    for current in succs:\n",
        "        key = list(current.keys())\n",
        "        key.sort()\n",
        "        key = key[0:len(key)//2]\n",
        "        successors = []\n",
        "        for k in key:\n",
        "            temp = current.copy()\n",
        "            temp[k] = abs(temp[k]-1)\n",
        "            temp[chr(ord(k)+32)] = abs(temp[chr(ord(k)+32)]-1)\n",
        "            successors.append(temp)\n",
        "            nextnode.append(temp)\n",
        "\n",
        "    return nextnode"
      ],
      "metadata": {
        "id": "lRpjr1WSBaB9"
      },
      "execution_count": null,
      "outputs": []
    },
    {
      "cell_type": "code",
      "source": [
        "def beam_search(start,problem,step,beamwidth):\n",
        "    if step == 10000:\n",
        "        print('halted at depth',step)\n",
        "        return\n",
        "    for current_state in start:\n",
        "        print(current_state)\n",
        "        if check_goal_state(current_state,problem)==True:\n",
        "            print(current_state,step)\n",
        "            return\n",
        "    step +=1\n",
        "    successor = next_node_beam(start,problem,beamwidth)\n",
        "    new_node = select_node_beam(successor,prob[0],beamwidth)\n",
        "    beam_search(start,problem,step,beamwidth)\n"
      ],
      "metadata": {
        "id": "48Sj4N0nBd0x"
      },
      "execution_count": null,
      "outputs": []
    },
    {
      "cell_type": "code",
      "source": [
        "n = 5\n",
        "k = 3\n",
        "m = 5\n",
        "var,probl = creatproblem(n,k,m)\n",
        "print(var)\n",
        "for i in probl:\n",
        "    print(i)"
      ],
      "metadata": {
        "colab": {
          "base_uri": "https://localhost:8080/"
        },
        "id": "u7_YxU6PBgWE",
        "outputId": "b7ecd175-20a9-45b1-d690-5ad921010b2b"
      },
      "execution_count": null,
      "outputs": [
        {
          "output_type": "stream",
          "name": "stdout",
          "text": [
            "['a', 'b', 'c', 'd', 'e', 'A', 'B', 'C', 'D', 'E']\n",
            "[['e', 'A', 'C'], ['c', 'e', 'B'], ['b', 'C', 'D'], ['c', 'e', 'D'], ['a', 'd', 'D']]\n",
            "[['d', 'e', 'D'], ['c', 'd', 'D'], ['b', 'D', 'E'], ['a', 'B', 'C'], ['b', 'c', 'A']]\n",
            "[['b', 'c', 'e'], ['a', 'e', 'A'], ['a', 'C', 'D'], ['b', 'C', 'D'], ['e', 'A', 'E']]\n",
            "[['c', 'd', 'A'], ['a', 'c', 'E'], ['d', 'A', 'E'], ['d', 'B', 'D'], ['e', 'C', 'D']]\n",
            "[['a', 'A', 'C'], ['e', 'D', 'E'], ['b', 'd', 'D'], ['d', 'A', 'E'], ['c', 'A', 'B']]\n",
            "[['a', 'c', 'C'], ['b', 'c', 'd'], ['B', 'C', 'E'], ['a', 'd', 'D'], ['c', 'e', 'C']]\n",
            "[['a', 'c', 'E'], ['c', 'C', 'E'], ['c', 'A', 'D'], ['b', 'A', 'C'], ['e', 'C', 'E']]\n",
            "[['a', 'c', 'E'], ['b', 'c', 'E'], ['e', 'B', 'E'], ['a', 'e', 'A'], ['b', 'e', 'B']]\n",
            "[['b', 'C', 'E'], ['b', 'B', 'D'], ['e', 'A', 'D'], ['a', 'A', 'C'], ['A', 'C', 'E']]\n",
            "[['C', 'D', 'E'], ['b', 'e', 'C'], ['a', 'B', 'C'], ['a', 'c', 'E'], ['b', 'c', 'B']]\n"
          ]
        }
      ]
    },
    {
      "cell_type": "code",
      "source": [
        "start_state = random_assign(var,n)\n",
        "print([start_state,start_state])"
      ],
      "metadata": {
        "colab": {
          "base_uri": "https://localhost:8080/"
        },
        "id": "O8ld36PLBnBZ",
        "outputId": "9e6bf82e-c003-4755-c1c8-7eec8770434e"
      },
      "execution_count": null,
      "outputs": [
        {
          "output_type": "stream",
          "name": "stdout",
          "text": [
            "[{'a': 0, 'b': 1, 'c': 0, 'd': 0, 'e': 0, 'A': 1, 'B': 0, 'C': 1, 'D': 1, 'E': 1}, {'a': 0, 'b': 1, 'c': 0, 'd': 0, 'e': 0, 'A': 1, 'B': 0, 'C': 1, 'D': 1, 'E': 1}]\n"
          ]
        }
      ]
    },
    {
      "cell_type": "code",
      "source": [
        "beam_search([start_state,start_state],prob[2],0,1)"
      ],
      "metadata": {
        "colab": {
          "base_uri": "https://localhost:8080/"
        },
        "id": "1LqUN-OMBotl",
        "outputId": "e1abbd0e-a26f-4d11-8f7f-0d6bdc083137"
      },
      "execution_count": null,
      "outputs": [
        {
          "output_type": "stream",
          "name": "stdout",
          "text": [
            "{'a': 0, 'b': 1, 'c': 0, 'd': 0, 'e': 0, 'A': 1, 'B': 0, 'C': 1, 'D': 1, 'E': 1}\n",
            "{'a': 0, 'b': 1, 'c': 0, 'd': 0, 'e': 0, 'A': 1, 'B': 0, 'C': 1, 'D': 1, 'E': 1} 0\n"
          ]
        }
      ]
    },
    {
      "cell_type": "code",
      "source": [
        "def heruistic(problem,assign):\n",
        "    count = 0\n",
        "    for sub in problem:\n",
        "        encode = [assign[val] for val in sub]\n",
        "        count += any(encode)\n",
        "    return count"
      ],
      "metadata": {
        "id": "bbGYmkvMBrcI"
      },
      "execution_count": null,
      "outputs": []
    },
    {
      "cell_type": "code",
      "source": [
        "def check_goal_state(state,problem):\n",
        "    count = 0\n",
        "    for sub in problem:\n",
        "        encode = [state[val] for val in sub]\n",
        "        count += any(encode)\n",
        "    return len(problem) == count"
      ],
      "metadata": {
        "id": "IOx1uDaABuK-"
      },
      "execution_count": null,
      "outputs": []
    },
    {
      "cell_type": "code",
      "source": [
        "def select_node(succs,problem):\n",
        "    heruistic_val = []\n",
        "    for i in succs:\n",
        "        heruistic_val.append(heruistic(problem,i))\n",
        "    index = heruistic_val.index(max(heruistic_val))\n",
        "    return succs[index]"
      ],
      "metadata": {
        "id": "yoG9JQkdBwV7"
      },
      "execution_count": null,
      "outputs": []
    },
    {
      "cell_type": "code",
      "source": [
        "def nghd1(current):\n",
        "    key = list(current.keys())\n",
        "    key.sort()\n",
        "    key = key[0:len(key)//2]\n",
        "    successors = []\n",
        "    for k in key:\n",
        "        temp = current.copy()\n",
        "        temp[k] = abs(temp[k]-1)\n",
        "        temp[chr(ord(k)+32)] = abs(temp[chr(ord(k)+32)]-1)\n",
        "        successors.append(temp)\n",
        "\n",
        "\n",
        "    return successors"
      ],
      "metadata": {
        "id": "_Uc2cXJwByRQ"
      },
      "execution_count": null,
      "outputs": []
    },
    {
      "cell_type": "code",
      "source": [
        "print(nghd1({'a': 1, 'b': 1, 'c': 1, 'd': 1, 'e': 1, 'A': 0, 'B': 0, 'C': 0, 'D': 0, 'E': 0}))"
      ],
      "metadata": {
        "colab": {
          "base_uri": "https://localhost:8080/"
        },
        "id": "jntKHEvMBzvE",
        "outputId": "5e1f427a-579f-42ff-9c79-f3f078e2259b"
      },
      "execution_count": null,
      "outputs": [
        {
          "output_type": "stream",
          "name": "stdout",
          "text": [
            "[{'a': 0, 'b': 1, 'c': 1, 'd': 1, 'e': 1, 'A': 1, 'B': 0, 'C': 0, 'D': 0, 'E': 0}, {'a': 1, 'b': 0, 'c': 1, 'd': 1, 'e': 1, 'A': 0, 'B': 1, 'C': 0, 'D': 0, 'E': 0}, {'a': 1, 'b': 1, 'c': 0, 'd': 1, 'e': 1, 'A': 0, 'B': 0, 'C': 1, 'D': 0, 'E': 0}, {'a': 1, 'b': 1, 'c': 1, 'd': 0, 'e': 1, 'A': 0, 'B': 0, 'C': 0, 'D': 1, 'E': 0}, {'a': 1, 'b': 1, 'c': 1, 'd': 1, 'e': 0, 'A': 0, 'B': 0, 'C': 0, 'D': 0, 'E': 1}]\n"
          ]
        }
      ]
    },
    {
      "cell_type": "code",
      "source": [
        "def nghd2(current):\n",
        "    key = list(current.keys())\n",
        "    key.sort()\n",
        "    key = key[0:len(key)//2]\n",
        "    successors = []\n",
        "    for j in range(0,len(key)-1):\n",
        "        for i in range(j,len(key)-1):\n",
        "\n",
        "            temp = current.copy()\n",
        "            temp[key[i]] = abs(temp[key[i]]-1)\n",
        "            temp[key[i+1]] = abs(temp[key[i+1]]-1)\n",
        "            temp[chr(ord(key[i])+32)] = abs(temp[chr(ord(key[i])+32)]-1)\n",
        "            temp[chr(ord(key[i+1])+32)] = abs(temp[chr(ord(key[i+1])+32)]-1)\n",
        "            successors.append(temp)\n",
        "\n",
        "\n",
        "    return successors"
      ],
      "metadata": {
        "id": "0SFHh3ueB1Zv"
      },
      "execution_count": null,
      "outputs": []
    },
    {
      "cell_type": "code",
      "source": [
        "print(nghd2({'a': 1, 'b': 1, 'c': 1, 'd': 1, 'e': 1, 'A': 0, 'B': 0, 'C': 0, 'D': 0, 'E': 0}))"
      ],
      "metadata": {
        "colab": {
          "base_uri": "https://localhost:8080/"
        },
        "id": "9mBuVBbhB3hc",
        "outputId": "94b83d86-4d3a-40a3-8e34-d1edd5ef0727"
      },
      "execution_count": null,
      "outputs": [
        {
          "output_type": "stream",
          "name": "stdout",
          "text": [
            "[{'a': 0, 'b': 0, 'c': 1, 'd': 1, 'e': 1, 'A': 1, 'B': 1, 'C': 0, 'D': 0, 'E': 0}, {'a': 1, 'b': 0, 'c': 0, 'd': 1, 'e': 1, 'A': 0, 'B': 1, 'C': 1, 'D': 0, 'E': 0}, {'a': 1, 'b': 1, 'c': 0, 'd': 0, 'e': 1, 'A': 0, 'B': 0, 'C': 1, 'D': 1, 'E': 0}, {'a': 1, 'b': 1, 'c': 1, 'd': 0, 'e': 0, 'A': 0, 'B': 0, 'C': 0, 'D': 1, 'E': 1}, {'a': 1, 'b': 0, 'c': 0, 'd': 1, 'e': 1, 'A': 0, 'B': 1, 'C': 1, 'D': 0, 'E': 0}, {'a': 1, 'b': 1, 'c': 0, 'd': 0, 'e': 1, 'A': 0, 'B': 0, 'C': 1, 'D': 1, 'E': 0}, {'a': 1, 'b': 1, 'c': 1, 'd': 0, 'e': 0, 'A': 0, 'B': 0, 'C': 0, 'D': 1, 'E': 1}, {'a': 1, 'b': 1, 'c': 0, 'd': 0, 'e': 1, 'A': 0, 'B': 0, 'C': 1, 'D': 1, 'E': 0}, {'a': 1, 'b': 1, 'c': 1, 'd': 0, 'e': 0, 'A': 0, 'B': 0, 'C': 0, 'D': 1, 'E': 1}, {'a': 1, 'b': 1, 'c': 1, 'd': 0, 'e': 0, 'A': 0, 'B': 0, 'C': 0, 'D': 1, 'E': 1}]\n"
          ]
        }
      ]
    },
    {
      "cell_type": "code",
      "source": [
        "def nghd3(current):\n",
        "    key = list(current.keys())\n",
        "    key.sort()\n",
        "    key = key[0:len(key)//2]\n",
        "    successors = []\n",
        "    for j in range(0,len(key)-2):\n",
        "        for k in range(j,len(key)-2):\n",
        "            for i in range(k,len(key)-2):\n",
        "\n",
        "                temp = current.copy()\n",
        "                temp[key[i]] = abs(temp[key[i]]-1)\n",
        "                temp[key[i+1]] = abs(temp[key[i+1]]-1)\n",
        "                temp[chr(ord(key[i])+32)] = abs(temp[chr(ord(key[i])+32)]-1)\n",
        "                temp[chr(ord(key[i+1])+32)] = abs(temp[chr(ord(key[i+1])+32)]-1)\n",
        "                successors.append(temp)\n",
        "\n",
        "\n",
        "    return successors"
      ],
      "metadata": {
        "id": "E8IuO8UyB5Gf"
      },
      "execution_count": null,
      "outputs": []
    },
    {
      "cell_type": "code",
      "source": [
        "print(nghd3({'a': 1, 'b': 1, 'c': 1, 'd': 1, 'e': 1, 'A': 0, 'B': 0, 'C': 0, 'D': 0, 'E': 0}))"
      ],
      "metadata": {
        "colab": {
          "base_uri": "https://localhost:8080/"
        },
        "id": "oCbUKZhZB6uw",
        "outputId": "f8b7d632-65c7-47ec-b328-5e1fa5267831"
      },
      "execution_count": null,
      "outputs": [
        {
          "output_type": "stream",
          "name": "stdout",
          "text": [
            "[{'a': 0, 'b': 0, 'c': 1, 'd': 1, 'e': 1, 'A': 1, 'B': 1, 'C': 0, 'D': 0, 'E': 0}, {'a': 1, 'b': 0, 'c': 0, 'd': 1, 'e': 1, 'A': 0, 'B': 1, 'C': 1, 'D': 0, 'E': 0}, {'a': 1, 'b': 1, 'c': 0, 'd': 0, 'e': 1, 'A': 0, 'B': 0, 'C': 1, 'D': 1, 'E': 0}, {'a': 1, 'b': 0, 'c': 0, 'd': 1, 'e': 1, 'A': 0, 'B': 1, 'C': 1, 'D': 0, 'E': 0}, {'a': 1, 'b': 1, 'c': 0, 'd': 0, 'e': 1, 'A': 0, 'B': 0, 'C': 1, 'D': 1, 'E': 0}, {'a': 1, 'b': 1, 'c': 0, 'd': 0, 'e': 1, 'A': 0, 'B': 0, 'C': 1, 'D': 1, 'E': 0}, {'a': 1, 'b': 0, 'c': 0, 'd': 1, 'e': 1, 'A': 0, 'B': 1, 'C': 1, 'D': 0, 'E': 0}, {'a': 1, 'b': 1, 'c': 0, 'd': 0, 'e': 1, 'A': 0, 'B': 0, 'C': 1, 'D': 1, 'E': 0}, {'a': 1, 'b': 1, 'c': 0, 'd': 0, 'e': 1, 'A': 0, 'B': 0, 'C': 1, 'D': 1, 'E': 0}, {'a': 1, 'b': 1, 'c': 0, 'd': 0, 'e': 1, 'A': 0, 'B': 0, 'C': 1, 'D': 1, 'E': 0}]\n"
          ]
        }
      ]
    },
    {
      "cell_type": "code",
      "source": [
        "def Variable_Neighborhood1(current_state,problem,step):\n",
        "    if step == 10000:\n",
        "        print('halted at depth',step)\n",
        "        return\n",
        "    if check_goal_state(current_state,problem)==True:\n",
        "        return current_state\n",
        "\n",
        "    else:\n",
        "        step += 1\n",
        "        successor = next_node(current_state)\n",
        "        new_node = nghd1(successor,problem)\n",
        "        Variable_Neighborhood(new_node,problem,step)"
      ],
      "metadata": {
        "id": "K_WFqWxlB9CM"
      },
      "execution_count": null,
      "outputs": []
    },
    {
      "cell_type": "code",
      "source": [
        "def Variable_Neighborhood2(current_state,problem,step):\n",
        "    if step == 10000:\n",
        "        print('halted at depth',step)\n",
        "        return\n",
        "    if check_goal_state(current_state,problem)==True:\n",
        "        return current_state\n",
        "\n",
        "    else:\n",
        "        step += 1\n",
        "        successor = next_node(current_state)\n",
        "        new_node = nghd2(successor,problem)\n",
        "        Variable_Neighborhood(new_node,problem,step)"
      ],
      "metadata": {
        "id": "lYqRSZzVB-sS"
      },
      "execution_count": null,
      "outputs": []
    },
    {
      "cell_type": "code",
      "source": [
        "def Variable_Neighborhood3(current_state,problem,step):\n",
        "    if step == 10000:\n",
        "        print('halted at depth',step)\n",
        "        return\n",
        "    if check_goal_state(current_state,problem)==True:\n",
        "        print(current_state,step)\n",
        "        return\n",
        "    else:\n",
        "        step += 1\n",
        "        successor = next_node(current_state)\n",
        "        new_node = nghd3(successor,problem)\n",
        "        Variable_Neighborhood(new_node,problem,step)"
      ],
      "metadata": {
        "id": "Fng-WZJ8CARk"
      },
      "execution_count": null,
      "outputs": []
    },
    {
      "cell_type": "code",
      "source": [
        "n = 5\n",
        "k = 3\n",
        "m = 5\n",
        "var,probl = creatproblem(n,k,m)\n",
        "print(var)\n",
        "for i in probl:\n",
        "    print(i)"
      ],
      "metadata": {
        "colab": {
          "base_uri": "https://localhost:8080/"
        },
        "id": "T1-43_tbCB08",
        "outputId": "24a3aaaa-b49b-4730-ca33-eab6b412df1a"
      },
      "execution_count": null,
      "outputs": [
        {
          "output_type": "stream",
          "name": "stdout",
          "text": [
            "['a', 'b', 'c', 'd', 'e', 'A', 'B', 'C', 'D', 'E']\n",
            "[['c', 'd', 'C'], ['a', 'd', 'A'], ['B', 'C', 'E'], ['b', 'A', 'E'], ['a', 'c', 'B']]\n",
            "[['a', 'C', 'E'], ['a', 'e', 'C'], ['c', 'B', 'D'], ['c', 'e', 'D'], ['d', 'B', 'D']]\n",
            "[['a', 'd', 'D'], ['b', 'C', 'E'], ['b', 'c', 'A'], ['B', 'C', 'E'], ['e', 'A', 'D']]\n",
            "[['d', 'B', 'D'], ['a', 'C', 'E'], ['e', 'A', 'E'], ['c', 'B', 'C'], ['c', 'C', 'D']]\n",
            "[['d', 'C', 'E'], ['c', 'A', 'D'], ['a', 'c', 'B'], ['b', 'c', 'C'], ['c', 'd', 'E']]\n",
            "[['b', 'e', 'D'], ['b', 'd', 'A'], ['a', 'b', 'e'], ['d', 'B', 'E'], ['a', 'B', 'C']]\n",
            "[['c', 'd', 'e'], ['a', 'A', 'C'], ['a', 'B', 'E'], ['a', 'd', 'D'], ['b', 'B', 'D']]\n",
            "[['a', 'e', 'B'], ['a', 'c', 'C'], ['d', 'A', 'C'], ['a', 'b', 'E'], ['c', 'B', 'D']]\n",
            "[['c', 'e', 'B'], ['b', 'd', 'A'], ['c', 'D', 'E'], ['b', 'c', 'd'], ['a', 'c', 'A']]\n",
            "[['c', 'A', 'B'], ['c', 'D', 'E'], ['A', 'C', 'D'], ['b', 'd', 'B'], ['a', 'e', 'C']]\n"
          ]
        }
      ]
    },
    {
      "cell_type": "code",
      "source": [
        "start_state = random_assign(var,n)\n",
        "print([start_state,start_state])"
      ],
      "metadata": {
        "colab": {
          "base_uri": "https://localhost:8080/"
        },
        "id": "_ZoA7ANDCFdv",
        "outputId": "08b9e5fc-b338-4850-987b-bdbfac0edc56"
      },
      "execution_count": null,
      "outputs": [
        {
          "output_type": "stream",
          "name": "stdout",
          "text": [
            "[{'a': 1, 'b': 1, 'c': 0, 'd': 0, 'e': 0, 'A': 0, 'B': 0, 'C': 1, 'D': 1, 'E': 1}, {'a': 1, 'b': 1, 'c': 0, 'd': 0, 'e': 0, 'A': 0, 'B': 0, 'C': 1, 'D': 1, 'E': 1}]\n"
          ]
        }
      ]
    },
    {
      "cell_type": "code",
      "source": [
        "var1 = start_state\n",
        "var2 = Variable_Neighborhood1(var1,prob[0],0)\n",
        "var3 = Variable_Neighborhood2(var2,prob[0],0)\n",
        "Variable_Neighborhood3(var3,prob[0],0)"
      ],
      "metadata": {
        "colab": {
          "base_uri": "https://localhost:8080/",
          "height": 176
        },
        "id": "_ICspRSfCF5e",
        "outputId": "c31882f7-2195-4a67-d0f9-44970b095e02"
      },
      "execution_count": null,
      "outputs": [
        {
          "output_type": "error",
          "ename": "NameError",
          "evalue": "name 'Variable_Neighborhood' is not defined",
          "traceback": [
            "\u001b[0;31m---------------------------------------------------------------------------\u001b[0m",
            "\u001b[0;31mNameError\u001b[0m                                 Traceback (most recent call last)",
            "\u001b[0;32m<ipython-input-50-13b9ecf65a48>\u001b[0m in \u001b[0;36m<cell line: 4>\u001b[0;34m()\u001b[0m\n\u001b[1;32m      2\u001b[0m \u001b[0mvar2\u001b[0m \u001b[0;34m=\u001b[0m \u001b[0mVariable_Neighborhood1\u001b[0m\u001b[0;34m(\u001b[0m\u001b[0mvar1\u001b[0m\u001b[0;34m,\u001b[0m\u001b[0mprob\u001b[0m\u001b[0;34m[\u001b[0m\u001b[0;36m0\u001b[0m\u001b[0;34m]\u001b[0m\u001b[0;34m,\u001b[0m\u001b[0;36m0\u001b[0m\u001b[0;34m)\u001b[0m\u001b[0;34m\u001b[0m\u001b[0;34m\u001b[0m\u001b[0m\n\u001b[1;32m      3\u001b[0m \u001b[0mvar3\u001b[0m \u001b[0;34m=\u001b[0m \u001b[0mVariable_Neighborhood2\u001b[0m\u001b[0;34m(\u001b[0m\u001b[0mvar2\u001b[0m\u001b[0;34m,\u001b[0m\u001b[0mprob\u001b[0m\u001b[0;34m[\u001b[0m\u001b[0;36m0\u001b[0m\u001b[0;34m]\u001b[0m\u001b[0;34m,\u001b[0m\u001b[0;36m0\u001b[0m\u001b[0;34m)\u001b[0m\u001b[0;34m\u001b[0m\u001b[0;34m\u001b[0m\u001b[0m\n\u001b[0;32m----> 4\u001b[0;31m \u001b[0mVariable_Neighborhood\u001b[0m\u001b[0;34m(\u001b[0m\u001b[0mvar3\u001b[0m\u001b[0;34m,\u001b[0m\u001b[0mprob\u001b[0m\u001b[0;34m[\u001b[0m\u001b[0;36m0\u001b[0m\u001b[0;34m]\u001b[0m\u001b[0;34m,\u001b[0m\u001b[0;36m0\u001b[0m\u001b[0;34m)\u001b[0m\u001b[0;34m\u001b[0m\u001b[0;34m\u001b[0m\u001b[0m\n\u001b[0m",
            "\u001b[0;31mNameError\u001b[0m: name 'Variable_Neighborhood' is not defined"
          ]
        }
      ]
    },
    {
      "cell_type": "code",
      "source": [],
      "metadata": {
        "id": "DENjNsjMCL2Z"
      },
      "execution_count": null,
      "outputs": []
    }
  ]
}